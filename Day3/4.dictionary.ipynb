{
 "cells": [
  {
   "cell_type": "code",
   "execution_count": 1,
   "metadata": {},
   "outputs": [
    {
     "name": "stdout",
     "output_type": "stream",
     "text": [
      "<class 'dict'>\n"
     ]
    }
   ],
   "source": [
    "d={}\n",
    "print(type(d))"
   ]
  },
  {
   "cell_type": "code",
   "execution_count": 2,
   "metadata": {},
   "outputs": [
    {
     "name": "stdout",
     "output_type": "stream",
     "text": [
      "['white', 'blue', 'green', 'black'] <class 'list'>\n"
     ]
    }
   ],
   "source": [
    "l=['white','blue', 'green', 'black']\n",
    "print(l,type(l))"
   ]
  },
  {
   "cell_type": "code",
   "execution_count": 3,
   "metadata": {},
   "outputs": [
    {
     "data": {
      "text/plain": [
       "('green', 'green')"
      ]
     },
     "execution_count": 3,
     "metadata": {},
     "output_type": "execute_result"
    }
   ],
   "source": [
    "l[2], l[-2]"
   ]
  },
  {
   "cell_type": "code",
   "execution_count": 5,
   "metadata": {},
   "outputs": [
    {
     "name": "stdout",
     "output_type": "stream",
     "text": [
      "['white', 'blue', 'green', 'black'] <class 'list'>\n",
      "4\n"
     ]
    },
    {
     "data": {
      "text/plain": [
       "'green'"
      ]
     },
     "execution_count": 5,
     "metadata": {},
     "output_type": "execute_result"
    }
   ],
   "source": [
    "d={'k1':'white','k2':'blue', 'k3':'green', 'k4':'black'}\n",
    "print(l,type(l))\n",
    "print (len(d))\n",
    "d['k3']"
   ]
  },
  {
   "cell_type": "code",
   "execution_count": 15,
   "metadata": {},
   "outputs": [
    {
     "name": "stdout",
     "output_type": "stream",
     "text": [
      "k1 white\n",
      "k2 blue\n",
      "k3 green\n",
      "k4 black\n",
      "green\n"
     ]
    }
   ],
   "source": [
    "for i in d: # this is the key\n",
    "    print(i, d[i]) # i is a key value is d[i]\n",
    "print(d['k3'])"
   ]
  },
  {
   "cell_type": "code",
   "execution_count": 22,
   "metadata": {},
   "outputs": [
    {
     "name": "stdout",
     "output_type": "stream",
     "text": [
      "{'snow': 'white', 'sky': 'blue', 'grass': 'red', 'soul': 'black', 'dress': 'pink'}\n",
      "{'sky': 'blue', 'snow': 'white', 'grass': 'green', 'soul': 'black'}\n",
      "{'snow': 'white', 'sky': 'grey', 'grass': 'green', 'soul': 'black'}\n"
     ]
    }
   ],
   "source": [
    "d={'snow':'white','sky':'blue', 'grass':'green', 'soul':'black'} # this our dictionary\n",
    "d['grass']\n",
    "d['grass']= 'red'\n",
    "\n",
    "#Editing value\n",
    "d['dress'] = 'pink'\n",
    "print(d)\n",
    "#Editing same value again - it will not or will taken taken as key is unique and the last one remains!!!\n",
    "d={'sky':'grey','snow':'white','sky':'blue', 'grass':'green', 'soul':'black'}\n",
    "print(d)\n",
    "d={'snow':'white','sky':'blue', 'sky':'grey','grass':'green', 'soul':'black'}\n",
    "print(d)"
   ]
  },
  {
   "cell_type": "code",
   "execution_count": 21,
   "metadata": {},
   "outputs": [
    {
     "name": "stdout",
     "output_type": "stream",
     "text": [
      "{'sky': 'blue', 'snow': 'white', 'grass': 'green', 'soul': 'black'}\n"
     ]
    }
   ],
   "source": [
    "d={'sky':'grey','snow':'white','sky':'blue', 'grass':'green', 'soul':'black'}\n",
    "print(d)"
   ]
  },
  {
   "cell_type": "code",
   "execution_count": 25,
   "metadata": {},
   "outputs": [
    {
     "name": "stdout",
     "output_type": "stream",
     "text": [
      "{'temperature': 200, 'month': ['jan', 'feb', 'march']}\n",
      "200\n",
      "{'temperature': 200, 'month': ['jan', 'feb', 'march']}\n"
     ]
    }
   ],
   "source": [
    "d={\n",
    "    'temperature':200,\n",
    "    'month':['jan','feb','march']\n",
    "}\n",
    "print(d)\n",
    "print(d['temperature'])\n",
    "#always use the key for value\n",
    "#hashing function  - for password, blockchange, takes input/data, hash as finger print\n",
    "# string is unmutuable so it could be used as key"
   ]
  }
 ],
 "metadata": {
  "kernelspec": {
   "display_name": "Python 3",
   "language": "python",
   "name": "python3"
  },
  "language_info": {
   "codemirror_mode": {
    "name": "ipython",
    "version": 3
   },
   "file_extension": ".py",
   "mimetype": "text/x-python",
   "name": "python",
   "nbconvert_exporter": "python",
   "pygments_lexer": "ipython3",
   "version": "3.13.0"
  }
 },
 "nbformat": 4,
 "nbformat_minor": 2
}
