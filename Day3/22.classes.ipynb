{
 "cells": [
  {
   "cell_type": "code",
   "execution_count": 1,
   "metadata": {},
   "outputs": [
    {
     "name": "stdout",
     "output_type": "stream",
     "text": [
      "yeee\n"
     ]
    }
   ],
   "source": [
    "# defining the class\n",
    "class Planet:\n",
    "    def spin(self):\n",
    "        print('yeee')\n",
    "\n",
    "#creating object\n",
    "earth = Planet()\n",
    "earth.spin()"
   ]
  },
  {
   "cell_type": "code",
   "execution_count": 2,
   "metadata": {},
   "outputs": [],
   "source": [
    "# defining the class\n",
    "class Planet:\n",
    "    def spin(self):\n",
    "        print('yeee')\n",
    "\n",
    "#creating object\n",
    "earth = Planet()\n",
    "#spin() - calling splin witout the object is not working"
   ]
  },
  {
   "cell_type": "code",
   "execution_count": 3,
   "metadata": {},
   "outputs": [
    {
     "name": "stdout",
     "output_type": "stream",
     "text": [
      "rrrrr\n"
     ]
    }
   ],
   "source": [
    "# defining the class\n",
    "class Planet:\n",
    "    #functions inside classes are dolled method\n",
    "    def spin(self):\n",
    "        print('yeee')\n",
    "    def rotate(self, count):\n",
    "        print('r'*count)\n",
    "\n",
    "#creating object\n",
    "earth = Planet()\n",
    "earth.rotate(5)"
   ]
  },
  {
   "cell_type": "code",
   "execution_count": 5,
   "metadata": {},
   "outputs": [
    {
     "name": "stdout",
     "output_type": "stream",
     "text": [
      "PlanetEarth\n",
      "rrrrr\n"
     ]
    }
   ],
   "source": [
    "# defining the class\n",
    "class Planet:\n",
    "    def __init__(self, planet_name):\n",
    "        #planet_name -> received parameter\n",
    "        #slef.name -> saved inside the object parameter\n",
    "        self.name = planet_name\n",
    "    \n",
    "    def __str__(self):\n",
    "        return f'Planet{self.name}'\n",
    "\n",
    "    def spin(self):\n",
    "        print('yeee')\n",
    "    def rotate(self, count):\n",
    "        print('r'* count)\n",
    "\n",
    "#creating object\n",
    "earth = Planet('Earth')\n",
    "print(earth)\n",
    "earth.rotate(5)"
   ]
  }
 ],
 "metadata": {
  "kernelspec": {
   "display_name": "Python 3",
   "language": "python",
   "name": "python3"
  },
  "language_info": {
   "codemirror_mode": {
    "name": "ipython",
    "version": 3
   },
   "file_extension": ".py",
   "mimetype": "text/x-python",
   "name": "python",
   "nbconvert_exporter": "python",
   "pygments_lexer": "ipython3",
   "version": "3.13.0"
  }
 },
 "nbformat": 4,
 "nbformat_minor": 2
}
