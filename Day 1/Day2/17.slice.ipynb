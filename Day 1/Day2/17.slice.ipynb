{
 "cells": [
  {
   "cell_type": "code",
   "execution_count": null,
   "metadata": {},
   "outputs": [],
   "source": [
    "collection =[23,51,3,10,9,100,20]"
   ]
  },
  {
   "cell_type": "markdown",
   "metadata": {},
   "source": [
    "#List"
   ]
  },
  {
   "cell_type": "code",
   "execution_count": 3,
   "metadata": {},
   "outputs": [
    {
     "name": "stdout",
     "output_type": "stream",
     "text": [
      "3\n",
      "10\n",
      "[3, 10, 9, 100]\n"
     ]
    }
   ],
   "source": [
    "collection =[23,51,3,10,9,100,20]\n",
    "elem1 = collection[2]\n",
    "print(elem1)\n",
    "elem2 = collection[3]\n",
    "print(elem2)\n",
    "a_slice=collection[2:6]\n",
    "print(a_slice, type(a_slice))"
   ]
  },
  {
   "cell_type": "markdown",
   "metadata": {},
   "source": [
    "#Truple"
   ]
  },
  {
   "cell_type": "code",
   "execution_count": 4,
   "metadata": {},
   "outputs": [
    {
     "name": "stdout",
     "output_type": "stream",
     "text": [
      "3\n",
      "10\n",
      "(3, 10, 9, 100) <class 'tuple'>\n"
     ]
    }
   ],
   "source": [
    "collection =(23,51,3,10,9,100,20)\n",
    "elem1 = collection[2]\n",
    "print(elem1)\n",
    "elem2 = collection[3]\n",
    "print(elem2)\n",
    "a_slice=collection[2:6]\n",
    "print(a_slice, type(a_slice))"
   ]
  },
  {
   "cell_type": "markdown",
   "metadata": {},
   "source": [
    "#String"
   ]
  },
  {
   "cell_type": "code",
   "execution_count": 10,
   "metadata": {},
   "outputs": [
    {
     "name": "stdout",
     "output_type": "stream",
     "text": [
      "l\n",
      "c\n",
      "lcom <class 'str'>\n",
      " to our class <class 'str'>\n",
      "Welcome <class 'str'>\n",
      "Welcome <class 'str'>\n",
      "Welcome to our class <class 'str'>\n",
      "lm <class 'str'>\n",
      " emocle <class 'str'>\n"
     ]
    }
   ],
   "source": [
    "collection =\"Welcome to our class\"\n",
    "elem1 = collection[2]\n",
    "print(elem1)\n",
    "elem2 = collection[3]\n",
    "print(elem2)\n",
    "a_slice=collection[2:6]\n",
    "print(a_slice, type(a_slice))\n",
    "a_slice=collection[7:] # even we can put 100 instead of nothing, no error in string\n",
    "print(a_slice, type(a_slice))\n",
    "a_slice=collection[0:7]\n",
    "print(a_slice, type(a_slice))\n",
    "a_slice=collection[:7]\n",
    "print(a_slice, type(a_slice))\n",
    "a_slice=collection[:]  # it is to copying value\n",
    "print(a_slice, type(a_slice))\n",
    "a_slice=collection[2:7:3] # we can give a step as well here, the 3\n",
    "print(a_slice, type(a_slice))\n",
    "a_slice=collection[7:0:-1] # reverse\n",
    "print(a_slice, type(a_slice))"
   ]
  },
  {
   "cell_type": "code",
   "execution_count": 11,
   "metadata": {},
   "outputs": [
    {
     "name": "stdout",
     "output_type": "stream",
     "text": [
      "['white', 'blue', 'red'] <class 'list'>\n"
     ]
    }
   ],
   "source": [
    "collection =[\"red\",\"blue\",\"white\"]\n",
    "a_slice=collection[::-1] # reverse\n",
    "print(a_slice, type(a_slice))\n",
    "             "
   ]
  }
 ],
 "metadata": {
  "kernelspec": {
   "display_name": "Python 3",
   "language": "python",
   "name": "python3"
  },
  "language_info": {
   "codemirror_mode": {
    "name": "ipython",
    "version": 3
   },
   "file_extension": ".py",
   "mimetype": "text/x-python",
   "name": "python",
   "nbconvert_exporter": "python",
   "pygments_lexer": "ipython3",
   "version": "3.13.0"
  }
 },
 "nbformat": 4,
 "nbformat_minor": 2
}
