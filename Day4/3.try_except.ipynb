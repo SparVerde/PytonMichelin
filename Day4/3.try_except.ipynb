{
 "cells": [
  {
   "cell_type": "code",
   "execution_count": 1,
   "metadata": {},
   "outputs": [
    {
     "name": "stdout",
     "output_type": "stream",
     "text": [
      "error occured\n"
     ]
    }
   ],
   "source": [
    "div = 0\n",
    "try:\n",
    "    10/div\n",
    "    print(\"The program should continue\")\n",
    "except:\n",
    "    print(\"error occured\")"
   ]
  },
  {
   "cell_type": "markdown",
   "metadata": {},
   "source": [
    "ZeroDivisionError"
   ]
  },
  {
   "cell_type": "code",
   "execution_count": 2,
   "metadata": {},
   "outputs": [
    {
     "name": "stdout",
     "output_type": "stream",
     "text": [
      "error occured\n"
     ]
    }
   ],
   "source": [
    "div = 0\n",
    "try:\n",
    "    10/div\n",
    "    print(\"The program should continue\")\n",
    "except ZeroDivisionError:\n",
    "    print(\"ZeroDivisionError occured\")"
   ]
  },
  {
   "cell_type": "markdown",
   "metadata": {},
   "source": [
    "ValueError"
   ]
  },
  {
   "cell_type": "code",
   "execution_count": 9,
   "metadata": {},
   "outputs": [
    {
     "name": "stdout",
     "output_type": "stream",
     "text": [
      "ValueError occured\n"
     ]
    }
   ],
   "source": [
    "div = '24j'\n",
    "try:\n",
    "   int(div)\n",
    "   print(\"The program should continue\")\n",
    "except ZeroDivisionError:\n",
    "    print(\"ZeroDivisionError occured\")\n",
    "except ValueError:\n",
    "    print(\"ValueError occured\")"
   ]
  },
  {
   "cell_type": "markdown",
   "metadata": {},
   "source": [
    "General exception"
   ]
  },
  {
   "cell_type": "code",
   "execution_count": 10,
   "metadata": {},
   "outputs": [
    {
     "name": "stdout",
     "output_type": "stream",
     "text": [
      "General occured\n"
     ]
    }
   ],
   "source": [
    "div = '24j'\n",
    "try:\n",
    "   div+30\n",
    "   print(\"The program should continue\")\n",
    "except ZeroDivisionError:\n",
    "    print(\"ZeroDivisionError occured\")\n",
    "except:\n",
    "    print(\"General occured\")"
   ]
  },
  {
   "cell_type": "markdown",
   "metadata": {},
   "source": [
    "Finally"
   ]
  },
  {
   "cell_type": "code",
   "execution_count": null,
   "metadata": {},
   "outputs": [],
   "source": [
    "div = 100\n",
    "try:\n",
    "   div+30\n",
    "   print(\"The program should continue\")\n",
    "except ZeroDivisionError:\n",
    "    print(\"ZeroDivisionError occured\")\n",
    "except:\n",
    "    print(\"General occured\")\n",
    "finally:\n",
    "    print('This line executed regardless of error occured')"
   ]
  },
  {
   "cell_type": "markdown",
   "metadata": {},
   "source": [
    "Error class are and there is inheritage"
   ]
  }
 ],
 "metadata": {
  "kernelspec": {
   "display_name": "Python 3",
   "language": "python",
   "name": "python3"
  },
  "language_info": {
   "codemirror_mode": {
    "name": "ipython",
    "version": 3
   },
   "file_extension": ".py",
   "mimetype": "text/x-python",
   "name": "python",
   "nbconvert_exporter": "python",
   "pygments_lexer": "ipython3",
   "version": "3.13.0"
  }
 },
 "nbformat": 4,
 "nbformat_minor": 2
}
