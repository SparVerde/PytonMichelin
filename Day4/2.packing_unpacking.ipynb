{
 "cells": [
  {
   "cell_type": "markdown",
   "metadata": {},
   "source": [
    "Change values via packing unpacking"
   ]
  },
  {
   "cell_type": "code",
   "execution_count": 1,
   "metadata": {},
   "outputs": [
    {
     "name": "stdout",
     "output_type": "stream",
     "text": [
      "a= 10\n",
      "b= 20\n",
      "a= 20\n",
      "b= 10\n"
     ]
    }
   ],
   "source": [
    "a=10\n",
    "b=20\n",
    "print('a=',a)\n",
    "print('b=',b)\n",
    "a,b=b,a\n",
    "print('a=',a)\n",
    "print('b=',b)"
   ]
  },
  {
   "cell_type": "markdown",
   "metadata": {},
   "source": [
    "#Too many value for packing: Number of values to unpacked must be equal to numbers and inverse"
   ]
  },
  {
   "cell_type": "code",
   "execution_count": 2,
   "metadata": {},
   "outputs": [
    {
     "ename": "ValueError",
     "evalue": "too many values to unpack (expected 2)",
     "output_type": "error",
     "traceback": [
      "\u001b[1;31m---------------------------------------------------------------------------\u001b[0m",
      "\u001b[1;31mValueError\u001b[0m                                Traceback (most recent call last)",
      "Cell \u001b[1;32mIn[2], line 1\u001b[0m\n\u001b[1;32m----> 1\u001b[0m a,b \u001b[38;5;241m=\u001b[39m \u001b[38;5;241m10\u001b[39m,\u001b[38;5;241m1\u001b[39m,\u001b[38;5;241m2\u001b[39m\n",
      "\u001b[1;31mValueError\u001b[0m: too many values to unpack (expected 2)"
     ]
    }
   ],
   "source": [
    "a,b = 10,1,2"
   ]
  },
  {
   "cell_type": "code",
   "execution_count": 4,
   "metadata": {},
   "outputs": [
    {
     "name": "stdout",
     "output_type": "stream",
     "text": [
      "[2, 3, 4, 5]\n"
     ]
    }
   ],
   "source": [
    "a,*b=1,2,3,4,5\n",
    "print(b)"
   ]
  },
  {
   "cell_type": "markdown",
   "metadata": {},
   "source": [
    "Mark *:"
   ]
  },
  {
   "cell_type": "code",
   "execution_count": 5,
   "metadata": {},
   "outputs": [
    {
     "name": "stdout",
     "output_type": "stream",
     "text": [
      "5\n"
     ]
    }
   ],
   "source": [
    "a,*b,c=1,2,3,4,5\n",
    "print(c)"
   ]
  },
  {
   "cell_type": "markdown",
   "metadata": {},
   "source": [
    "\"*\" In use "
   ]
  },
  {
   "cell_type": "code",
   "execution_count": 7,
   "metadata": {},
   "outputs": [
    {
     "name": "stdout",
     "output_type": "stream",
     "text": [
      "parameters: (2.3,) <class 'tuple'>\n"
     ]
    }
   ],
   "source": [
    "def func_with_params(*parameters):\n",
    "    print('parameters:', parameters, type(parameters))\n",
    "\n",
    "func_with_params(2.3)"
   ]
  },
  {
   "cell_type": "code",
   "execution_count": 11,
   "metadata": {},
   "outputs": [
    {
     "name": "stdout",
     "output_type": "stream",
     "text": [
      "first parameters: 2 <class 'int'>\n",
      "parameters: (4,) <class 'tuple'>\n"
     ]
    }
   ],
   "source": [
    "def func_with_params(first, second,*parameters):\n",
    "    print('first parameters:', first, type(first))\n",
    "    print('parameters:', parameters, type(parameters)) #if start with * parameters could be empty\n",
    "    \n",
    "func_with_params(2,3,4)"
   ]
  },
  {
   "cell_type": "markdown",
   "metadata": {},
   "source": [
    "** Matrk:"
   ]
  },
  {
   "cell_type": "code",
   "execution_count": 14,
   "metadata": {},
   "outputs": [
    {
     "name": "stdout",
     "output_type": "stream",
     "text": [
      "first parameters: 2 <class 'int'>\n",
      "args: (4,) <class 'tuple'>\n",
      "kargs: {'generic': 'hello', 'dubai': 30} <class 'dict'>\n",
      "30\n"
     ]
    }
   ],
   "source": [
    "def func_with_params(first, second,*args,**kargs): # ** dictionary\n",
    "    print('first parameters:', first, type(first))\n",
    "    print('args:', args, type(args))\n",
    "    print('kargs:', kargs, type(kargs))\n",
    "    print(kargs['dubai'])\n",
    "    \n",
    "func_with_params(2,3,4, generic='hello', dubai = 30)"
   ]
  },
  {
   "cell_type": "code",
   "execution_count": 15,
   "metadata": {},
   "outputs": [
    {
     "name": "stdout",
     "output_type": "stream",
     "text": [
      "first parameters: 2 <class 'int'>\n",
      "args: (4,) <class 'tuple'>\n",
      "kargs: {'generic': 'hello', 'dubai': 30} <class 'dict'>\n",
      "30\n"
     ]
    }
   ],
   "source": [
    "def func_with_params(first, second,*a,**k): # ** dictionary, the order is count we canb't put first ** and then *\n",
    "    print('first parameters:', first, type(first))\n",
    "    print('args:', a, type(a))\n",
    "    print('kargs:', k, type(k))\n",
    "    print(k['dubai'])\n",
    "    \n",
    "func_with_params(2,3,4, generic='hello', dubai = 30)"
   ]
  },
  {
   "cell_type": "code",
   "execution_count": 18,
   "metadata": {},
   "outputs": [
    {
     "name": "stdout",
     "output_type": "stream",
     "text": [
      "first parameters: 2 <class 'int'>\n",
      "kargs: {'generic': 'hello', 'dubai': 30} <class 'dict'>\n",
      "30\n"
     ]
    }
   ],
   "source": [
    "def func_with_params(first, second,**k): # ** dictionary, the order is count we canb't put first ** and then *\n",
    "    print('first parameters:', first, type(first))\n",
    "    #print('args:', a, type(a))\n",
    "    print('kargs:', k, type(k))\n",
    "    print(k['dubai'])\n",
    "    \n",
    "func_with_params(2,3, generic='hello', dubai = 30)"
   ]
  }
 ],
 "metadata": {
  "kernelspec": {
   "display_name": "Python 3",
   "language": "python",
   "name": "python3"
  },
  "language_info": {
   "codemirror_mode": {
    "name": "ipython",
    "version": 3
   },
   "file_extension": ".py",
   "mimetype": "text/x-python",
   "name": "python",
   "nbconvert_exporter": "python",
   "pygments_lexer": "ipython3",
   "version": "3.13.0"
  }
 },
 "nbformat": 4,
 "nbformat_minor": 2
}
