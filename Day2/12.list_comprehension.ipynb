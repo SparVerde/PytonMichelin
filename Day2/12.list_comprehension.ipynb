{
 "cells": [
  {
   "cell_type": "code",
   "execution_count": 2,
   "metadata": {},
   "outputs": [
    {
     "name": "stdout",
     "output_type": "stream",
     "text": [
      "Odds:\n",
      " [1, 33, 77, 9, 11]\n",
      "Evens:\n",
      " [2, 4, 56, 8, 12]\n",
      "10\n"
     ]
    }
   ],
   "source": [
    "l = [1,2,33,4,56,77,8,9,11,12]   \n",
    "odd =[i for i in l if i % 2 == 1]\n",
    "even = [i for i in l if i % 2 == 0]\n",
    "#print(\"a = \", l,\"\\nodd = \",odd,\"\\neve = \",even)\n",
    "#for i in l:\n",
    "    #if i%2==0:\n",
    "        #even.append(i)\n",
    "    #else:\n",
    "        #odd.append(i)\n",
    "#print(l)\n",
    "print(\"Odds:\\n\",odd)\n",
    "print(\"Evens:\\n\",even)\n",
    "print(len(l))"
   ]
  }
 ],
 "metadata": {
  "kernelspec": {
   "display_name": "Python 3",
   "language": "python",
   "name": "python3"
  },
  "language_info": {
   "codemirror_mode": {
    "name": "ipython",
    "version": 3
   },
   "file_extension": ".py",
   "mimetype": "text/x-python",
   "name": "python",
   "nbconvert_exporter": "python",
   "pygments_lexer": "ipython3",
   "version": "3.13.0"
  }
 },
 "nbformat": 4,
 "nbformat_minor": 2
}
